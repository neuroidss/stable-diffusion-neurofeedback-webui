{
  "cells": [
    {
      "cell_type": "markdown",
      "metadata": {
        "id": "view-in-github"
      },
      "source": [
        "[![Open In Colab](https://colab.research.google.com/assets/colab-badge.svg)](https://colab.research.google.com/github/neuroidss/stable-diffusion-neurofeedback-webui/blob/main/stable-diffusion_neurofeedback_colab.ipynb)"
      ]
    },
    {
      "cell_type": "code",
      "execution_count": null,
      "metadata": {},
      "outputs": [],
      "source": [
        "%cd /content\n",
        "!git clone https://github.com/neuroidss/stable-diffusion-neurofeedback-webui\n",
        "%cd /content/stable-diffusion-neurofeedback-webui\n",
        "!pip install -r requirements.txt\n",
        "!git clone https://github.com/deforum-art/sd-webui-deforum extensions/deforum\n",
        "!git clone https://github.com/https://github.com/volotat/SD-CN-Animation extensions/SD-CN-Animation\n",
        "!https://github.com/Mikubill/sd-webui-controlnet extensions/sd-webui-controlnet\n",
        "!python webui.py --share"
      ]
    }
  ],
  "metadata": {
    "accelerator": "GPU",
    "colab": {
      "gpuType": "T4",
      "provenance": []
    },
    "kernelspec": {
      "display_name": "Python 3",
      "name": "python3"
    },
    "language_info": {
      "name": "python"
    }
  },
  "nbformat": 4,
  "nbformat_minor": 0
}
